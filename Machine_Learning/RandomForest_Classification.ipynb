{
 "cells": [
  {
   "cell_type": "code",
   "execution_count": 126,
   "id": "d4812411-2112-457f-a03c-28b6def51209",
   "metadata": {},
   "outputs": [],
   "source": [
    "import pandas as pd\n",
    "import numpy as np\n",
    "import matplotlib.pyplot as plt\n",
    "\n",
    "from sklearn.model_selection import train_test_split\n",
    "from sklearn.preprocessing import StandardScaler\n",
    "from pandas import DataFrame\n",
    "\n",
    "from sklearn.ensemble import RandomForestClassifier\n",
    "from sklearn.metrics import confusion_matrix, accuracy_score\n",
    "from sklearn.metrics import ConfusionMatrixDisplay\n"
   ]
  },
  {
   "cell_type": "code",
   "execution_count": 128,
   "id": "a1fbd51c-956c-456b-8b84-0da32319382b",
   "metadata": {},
   "outputs": [
    {
     "data": {
      "text/html": [
       "<div>\n",
       "<style scoped>\n",
       "    .dataframe tbody tr th:only-of-type {\n",
       "        vertical-align: middle;\n",
       "    }\n",
       "\n",
       "    .dataframe tbody tr th {\n",
       "        vertical-align: top;\n",
       "    }\n",
       "\n",
       "    .dataframe thead th {\n",
       "        text-align: right;\n",
       "    }\n",
       "</style>\n",
       "<table border=\"1\" class=\"dataframe\">\n",
       "  <thead>\n",
       "    <tr style=\"text-align: right;\">\n",
       "      <th></th>\n",
       "      <th>0</th>\n",
       "      <th>1</th>\n",
       "      <th>2</th>\n",
       "      <th>3</th>\n",
       "      <th>4</th>\n",
       "      <th>5</th>\n",
       "      <th>6</th>\n",
       "      <th>7</th>\n",
       "      <th>8</th>\n",
       "      <th>9</th>\n",
       "      <th>...</th>\n",
       "      <th>19</th>\n",
       "      <th>20</th>\n",
       "      <th>21</th>\n",
       "      <th>22</th>\n",
       "      <th>23</th>\n",
       "      <th>24</th>\n",
       "      <th>25</th>\n",
       "      <th>26</th>\n",
       "      <th>27</th>\n",
       "      <th>28</th>\n",
       "    </tr>\n",
       "  </thead>\n",
       "  <tbody>\n",
       "    <tr>\n",
       "      <th>0</th>\n",
       "      <td>1.0</td>\n",
       "      <td>0.869293</td>\n",
       "      <td>-0.635082</td>\n",
       "      <td>0.225690</td>\n",
       "      <td>0.327470</td>\n",
       "      <td>-0.689993</td>\n",
       "      <td>0.754202</td>\n",
       "      <td>-0.248573</td>\n",
       "      <td>-1.092064</td>\n",
       "      <td>0.000000</td>\n",
       "      <td>...</td>\n",
       "      <td>-0.010455</td>\n",
       "      <td>-0.045767</td>\n",
       "      <td>3.101961</td>\n",
       "      <td>1.353760</td>\n",
       "      <td>0.979563</td>\n",
       "      <td>0.978076</td>\n",
       "      <td>0.920005</td>\n",
       "      <td>0.721657</td>\n",
       "      <td>0.988751</td>\n",
       "      <td>0.876678</td>\n",
       "    </tr>\n",
       "    <tr>\n",
       "      <th>1</th>\n",
       "      <td>0.0</td>\n",
       "      <td>1.630428</td>\n",
       "      <td>0.404143</td>\n",
       "      <td>0.401026</td>\n",
       "      <td>2.722409</td>\n",
       "      <td>0.355644</td>\n",
       "      <td>1.362199</td>\n",
       "      <td>0.015818</td>\n",
       "      <td>-1.174111</td>\n",
       "      <td>0.000000</td>\n",
       "      <td>...</td>\n",
       "      <td>0.387635</td>\n",
       "      <td>1.596321</td>\n",
       "      <td>1.550981</td>\n",
       "      <td>0.859235</td>\n",
       "      <td>0.827233</td>\n",
       "      <td>0.995416</td>\n",
       "      <td>0.764766</td>\n",
       "      <td>0.520597</td>\n",
       "      <td>0.850413</td>\n",
       "      <td>0.929865</td>\n",
       "    </tr>\n",
       "    <tr>\n",
       "      <th>2</th>\n",
       "      <td>1.0</td>\n",
       "      <td>0.326305</td>\n",
       "      <td>-0.797735</td>\n",
       "      <td>0.223471</td>\n",
       "      <td>1.248234</td>\n",
       "      <td>-1.427857</td>\n",
       "      <td>0.923767</td>\n",
       "      <td>-0.278280</td>\n",
       "      <td>-0.470052</td>\n",
       "      <td>0.000000</td>\n",
       "      <td>...</td>\n",
       "      <td>-0.426866</td>\n",
       "      <td>1.153501</td>\n",
       "      <td>0.000000</td>\n",
       "      <td>0.887944</td>\n",
       "      <td>0.924601</td>\n",
       "      <td>0.987189</td>\n",
       "      <td>0.854094</td>\n",
       "      <td>0.385013</td>\n",
       "      <td>0.789912</td>\n",
       "      <td>0.724627</td>\n",
       "    </tr>\n",
       "    <tr>\n",
       "      <th>3</th>\n",
       "      <td>1.0</td>\n",
       "      <td>1.381170</td>\n",
       "      <td>0.521993</td>\n",
       "      <td>0.574698</td>\n",
       "      <td>0.357347</td>\n",
       "      <td>0.037136</td>\n",
       "      <td>0.413057</td>\n",
       "      <td>-0.607036</td>\n",
       "      <td>-1.308270</td>\n",
       "      <td>0.000000</td>\n",
       "      <td>...</td>\n",
       "      <td>0.567525</td>\n",
       "      <td>-1.475778</td>\n",
       "      <td>0.000000</td>\n",
       "      <td>0.936186</td>\n",
       "      <td>1.107217</td>\n",
       "      <td>0.983808</td>\n",
       "      <td>0.693327</td>\n",
       "      <td>0.562045</td>\n",
       "      <td>0.825387</td>\n",
       "      <td>0.846233</td>\n",
       "    </tr>\n",
       "    <tr>\n",
       "      <th>4</th>\n",
       "      <td>1.0</td>\n",
       "      <td>0.304161</td>\n",
       "      <td>-0.736375</td>\n",
       "      <td>0.686225</td>\n",
       "      <td>0.477172</td>\n",
       "      <td>-1.274736</td>\n",
       "      <td>0.907003</td>\n",
       "      <td>0.324770</td>\n",
       "      <td>-0.463954</td>\n",
       "      <td>2.173076</td>\n",
       "      <td>...</td>\n",
       "      <td>0.904818</td>\n",
       "      <td>1.165154</td>\n",
       "      <td>0.000000</td>\n",
       "      <td>1.181790</td>\n",
       "      <td>1.033701</td>\n",
       "      <td>0.993943</td>\n",
       "      <td>0.648399</td>\n",
       "      <td>0.936097</td>\n",
       "      <td>0.732592</td>\n",
       "      <td>0.661779</td>\n",
       "    </tr>\n",
       "  </tbody>\n",
       "</table>\n",
       "<p>5 rows × 29 columns</p>\n",
       "</div>"
      ],
      "text/plain": [
       "    0         1         2         3         4         5         6         7   \\\n",
       "0  1.0  0.869293 -0.635082  0.225690  0.327470 -0.689993  0.754202 -0.248573   \n",
       "1  0.0  1.630428  0.404143  0.401026  2.722409  0.355644  1.362199  0.015818   \n",
       "2  1.0  0.326305 -0.797735  0.223471  1.248234 -1.427857  0.923767 -0.278280   \n",
       "3  1.0  1.381170  0.521993  0.574698  0.357347  0.037136  0.413057 -0.607036   \n",
       "4  1.0  0.304161 -0.736375  0.686225  0.477172 -1.274736  0.907003  0.324770   \n",
       "\n",
       "         8         9   ...        19        20        21        22        23  \\\n",
       "0 -1.092064  0.000000  ... -0.010455 -0.045767  3.101961  1.353760  0.979563   \n",
       "1 -1.174111  0.000000  ...  0.387635  1.596321  1.550981  0.859235  0.827233   \n",
       "2 -0.470052  0.000000  ... -0.426866  1.153501  0.000000  0.887944  0.924601   \n",
       "3 -1.308270  0.000000  ...  0.567525 -1.475778  0.000000  0.936186  1.107217   \n",
       "4 -0.463954  2.173076  ...  0.904818  1.165154  0.000000  1.181790  1.033701   \n",
       "\n",
       "         24        25        26        27        28  \n",
       "0  0.978076  0.920005  0.721657  0.988751  0.876678  \n",
       "1  0.995416  0.764766  0.520597  0.850413  0.929865  \n",
       "2  0.987189  0.854094  0.385013  0.789912  0.724627  \n",
       "3  0.983808  0.693327  0.562045  0.825387  0.846233  \n",
       "4  0.993943  0.648399  0.936097  0.732592  0.661779  \n",
       "\n",
       "[5 rows x 29 columns]"
      ]
     },
     "execution_count": 128,
     "metadata": {},
     "output_type": "execute_result"
    }
   ],
   "source": [
    "df=pd.read_csv('HIGGS_8K.csv',header=None)\n",
    "df.head()"
   ]
  },
  {
   "cell_type": "code",
   "execution_count": 130,
   "id": "625d5669-9860-4b48-8b8f-ed541ac9de7a",
   "metadata": {},
   "outputs": [
    {
     "name": "stdout",
     "output_type": "stream",
     "text": [
      "17    object\n",
      "dtype: object\n"
     ]
    }
   ],
   "source": [
    "# While examining the data, some string elements were noticed\n",
    "print(df.dtypes[df.dtypes != 'float64'])"
   ]
  },
  {
   "cell_type": "code",
   "execution_count": 132,
   "id": "5615308c-4ffe-4f38-b5bf-cc12f87dfe04",
   "metadata": {},
   "outputs": [
    {
     "name": "stdout",
     "output_type": "stream",
     "text": [
      "String value: 0.000000000000000000e+00.1 (type: <class 'str'>)\n",
      "Fixed value: 0.0 (type: <class 'float'>)\n"
     ]
    }
   ],
   "source": [
    "# After locating the issue, we fix it \n",
    "print(f'String value: {df.iloc[0,17]} (type: {type(df.iloc[0, 17])})')\n",
    "df.iloc[:, 17] = pd.to_numeric(df.iloc[:, 17], errors='coerce').fillna(0) \n",
    "print(f'Fixed value: {df.iloc[0, 17]} (type: {type(df.iloc[0, 17])})')"
   ]
  },
  {
   "cell_type": "code",
   "execution_count": 134,
   "id": "16b0c4b3-f76d-4582-a78d-8a0983520aa8",
   "metadata": {},
   "outputs": [],
   "source": [
    "# Separation of the data, according to the instructions\n",
    "classification=df.iloc[:,0]\n",
    "low_level=df.iloc[:,1:21]\n",
    "high_level=df.iloc[:,22:]"
   ]
  },
  {
   "cell_type": "markdown",
   "id": "5ee76c85-f8e0-4958-82f3-f633ea1e9943",
   "metadata": {},
   "source": [
    "### Low level"
   ]
  },
  {
   "cell_type": "code",
   "execution_count": 150,
   "id": "19603e2e-ec3d-4577-b521-ae9b7cb601c4",
   "metadata": {},
   "outputs": [
    {
     "name": "stdout",
     "output_type": "stream",
     "text": [
      "Confusion matrix for the low level is: \n",
      "[[542 436]\n",
      " [338 685]]\n",
      "Accuracy score is: 0.6131934032983508\n"
     ]
    },
    {
     "data": {
      "image/png": "[encoded data removed]",
      "text/plain": [
       "<Figure size 640x480 with 2 Axes>"
      ]
     },
     "metadata": {},
     "output_type": "display_data"
    }
   ],
   "source": [
    "# Dividing the dataset in training and test data\n",
    "low_level_train, low_level_test, classification_train, classification_test = train_test_split(low_level, classification, test_size=0.25, random_state=42)\n",
    "\n",
    "# Random Forest classification\n",
    "classifier = RandomForestClassifier(n_estimators = 50, criterion = 'entropy', random_state = 42)\n",
    "classifier.fit(low_level_train, classification_train)\n",
    "\n",
    "low_level_test_pred = classifier.predict(low_level_test)\n",
    "\n",
    "# Calculating the confusion matrix and the accuracy \n",
    "conf_matr = confusion_matrix(classification_test, low_level_test_pred)\n",
    "print(f'Confusion matrix for the low level is: \\n{conf_matr}')\n",
    "print(f'Accuracy score is: {accuracy_score(classification_test, low_level_test_pred)}')\n",
    "\n",
    "disp = ConfusionMatrixDisplay(confusion_matrix=conf_matr, display_labels=classifier.classes_)\n",
    "disp.plot()\n",
    "plt.show()"
   ]
  },
  {
   "cell_type": "code",
   "execution_count": 156,
   "id": "acd1ee98-af36-427a-8862-92a15fccbdec",
   "metadata": {},
   "outputs": [
    {
     "name": "stdout",
     "output_type": "stream",
     "text": [
      "n_estimators=10: Accuracy = 0.5677161419290355\n",
      "n_estimators=50: Accuracy = 0.6011994002998501\n",
      "n_estimators=100: Accuracy = 0.6041979010494752\n"
     ]
    }
   ],
   "source": [
    "# We test for varius values of number of neighbors\n",
    "for n_trees in [10,50,100]:\n",
    "    classifier = RandomForestClassifier(n_estimators=n_trees, criterion = 'entropy', random_state = 0)\n",
    "    classifier.fit(low_level_train, classification_train)\n",
    "    pred = classifier.predict(low_level_test)\n",
    "    print(f\"n_estimators = {n_trees}: Accuracy = {accuracy_score(classification_test, pred):.3f}\")"
   ]
  },
  {
   "cell_type": "markdown",
   "id": "1416bbd9-cdda-49b0-b60c-dd3461364973",
   "metadata": {},
   "source": [
    "### High level"
   ]
  },
  {
   "cell_type": "code",
   "execution_count": 159,
   "id": "8be881a3-ca57-4e72-a615-1f6a277c53e3",
   "metadata": {},
   "outputs": [
    {
     "name": "stdout",
     "output_type": "stream",
     "text": [
      "Confusion matrix for the low level is: \n",
      "[[660 318]\n",
      " [315 708]]\n",
      "Accuracy score is: 0.6836581709145427\n"
     ]
    },
    {
     "data": {
      "image/png": "[encoded data removed]",
      "text/plain": [
       "<Figure size 640x480 with 2 Axes>"
      ]
     },
     "metadata": {},
     "output_type": "display_data"
    }
   ],
   "source": [
    "# Dividing the dataset in training and test data\n",
    "high_level_train, high_level_test, classification_train, classification_test = train_test_split(high_level, classification, test_size=0.25, random_state=42)\n",
    "\n",
    "# Random Forest classification\n",
    "classifier = RandomForestClassifier(n_estimators = 50, criterion = 'entropy', random_state = 42)\n",
    "classifier.fit(high_level_train, classification_train)\n",
    "\n",
    "high_level_test_pred = classifier.predict(high_level_test)\n",
    "\n",
    "# Calculating the confusion matrix and the accuracy \n",
    "conf_matr = confusion_matrix(classification_test, high_level_test_pred)\n",
    "print(f'Confusion matrix for the low level is: \\n{conf_matr}')\n",
    "print(f'Accuracy score is: {accuracy_score(classification_test, high_level_test_pred)}')\n",
    "\n",
    "disp = ConfusionMatrixDisplay(confusion_matrix=conf_matr, display_labels=classifier.classes_)\n",
    "disp.plot()\n",
    "plt.show()"
   ]
  },
  {
   "cell_type": "code",
   "execution_count": 161,
   "id": "b7e47837-2b68-47c2-88ff-0ad4092d4b62",
   "metadata": {},
   "outputs": [
    {
     "name": "stdout",
     "output_type": "stream",
     "text": [
      "n_estimators = 10: Accuracy = 0.670\n",
      "n_estimators = 50: Accuracy = 0.678\n",
      "n_estimators = 100: Accuracy = 0.680\n"
     ]
    }
   ],
   "source": [
    "# We test for varius values of number of neighbors\n",
    "for n_trees in [10,50,100]:\n",
    "    classifier = RandomForestClassifier(n_estimators=n_trees, criterion = 'entropy', random_state = 0)\n",
    "    classifier.fit(high_level_train, classification_train)\n",
    "    pred = classifier.predict(high_level_test)\n",
    "    print(f\"n_estimators = {n_trees}: Accuracy = {accuracy_score(classification_test, pred):.3f}\")"
   ]
  }
 ],
 "metadata": {
  "kernelspec": {
   "display_name": "Python [conda env:base] *",
   "language": "python",
   "name": "conda-base-py"
  },
  "language_info": {
   "codemirror_mode": {
    "name": "ipython",
    "version": 3
   },
   "file_extension": ".py",
   "mimetype": "text/x-python",
   "name": "python",
   "nbconvert_exporter": "python",
   "pygments_lexer": "ipython3",
   "version": "3.12.7"
  }
 },
 "nbformat": 4,
 "nbformat_minor": 5
}
